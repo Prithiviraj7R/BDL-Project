{
 "cells": [
  {
   "cell_type": "markdown",
   "metadata": {},
   "source": [
    "# MLflow: Model Tuning"
   ]
  },
  {
   "cell_type": "markdown",
   "metadata": {},
   "source": [
    "## Importing necessary modules"
   ]
  },
  {
   "cell_type": "code",
   "execution_count": 1,
   "metadata": {},
   "outputs": [],
   "source": [
    "import torch\n",
    "from torch import nn, optim\n",
    "import torch.nn.functional as F\n",
    "from torch.utils.data import DataLoader\n",
    "from torchvision import transforms, datasets\n",
    "\n",
    "import mlflow\n",
    "import matplotlib.pyplot as plt\n",
    "import os"
   ]
  },
  {
   "cell_type": "markdown",
   "metadata": {},
   "source": [
    "## Data Ingestion"
   ]
  },
  {
   "cell_type": "code",
   "execution_count": 3,
   "metadata": {},
   "outputs": [],
   "source": [
    "# read the data\n",
    "\n",
    "train_folder = 'processed_data/train'\n",
    "validation_folder = 'processed_data/valid'\n",
    "test_folder = 'processed_data/test'\n",
    "\n",
    "preprocess = transforms.Compose([\n",
    "    transforms.ToTensor(),\n",
    "])\n",
    "\n",
    "train_data = datasets.ImageFolder(root=train_folder, transform=preprocess)\n",
    "valid_data = datasets.ImageFolder(root=validation_folder, transform=preprocess)\n",
    "test_data = datasets.ImageFolder(root=test_folder, transform=preprocess)\n",
    "\n",
    "output_dir = 'artifacts/'\n",
    "os.makedirs(output_dir, exist_ok=True)"
   ]
  },
  {
   "cell_type": "code",
   "execution_count": 4,
   "metadata": {},
   "outputs": [],
   "source": [
    "num_classes = len(train_data.classes)\n",
    "batch_size = 32\n",
    "\n",
    "train_loader = DataLoader(train_data, batch_size=batch_size, shuffle=True)\n",
    "valid_loader = DataLoader(valid_data, batch_size=batch_size, shuffle=True)\n",
    "test_loader = DataLoader(test_data, batch_size=batch_size, shuffle=True)"
   ]
  },
  {
   "cell_type": "code",
   "execution_count": 5,
   "metadata": {},
   "outputs": [
    {
     "name": "stdout",
     "output_type": "stream",
     "text": [
      "torch.Size([32, 3, 224, 224])\n"
     ]
    }
   ],
   "source": [
    "for image, label in train_loader:\n",
    "    print(image.size())\n",
    "    image_size = image.size()[2]\n",
    "    break"
   ]
  },
  {
   "cell_type": "markdown",
   "metadata": {},
   "source": [
    "## MLflow experiment"
   ]
  },
  {
   "cell_type": "code",
   "execution_count": 6,
   "metadata": {},
   "outputs": [
    {
     "name": "stderr",
     "output_type": "stream",
     "text": [
      "2024/05/18 15:36:36 INFO mlflow.tracking.fluent: Experiment with name 'Image classification' does not exist. Creating a new experiment.\n"
     ]
    },
    {
     "data": {
      "text/plain": [
       "<Experiment: artifact_location='file:///media/prithiviraj/AVR/Prithiviraj/Ubuntu/BDL/Project/mlruns/248014270365177687', creation_time=1716026796031, experiment_id='248014270365177687', last_update_time=1716026796031, lifecycle_stage='active', name='Image classification', tags={}>"
      ]
     },
     "execution_count": 6,
     "metadata": {},
     "output_type": "execute_result"
    }
   ],
   "source": [
    "mlflow.set_experiment(\"Image classification\")"
   ]
  },
  {
   "cell_type": "markdown",
   "metadata": {},
   "source": [
    "## Base model definition"
   ]
  },
  {
   "cell_type": "code",
   "execution_count": 7,
   "metadata": {},
   "outputs": [],
   "source": [
    "class BaseCNN(nn.Module):\n",
    "    def __init__(self):\n",
    "        super(BaseCNN, self).__init__()\n",
    "\n",
    "    def forward(self, x):\n",
    "        x = self.conv1(x)\n",
    "        if hasattr(self, 'norm1'):\n",
    "            x = self.norm1(x)\n",
    "        x = F.relu(x)\n",
    "        x = self.pool1(x)\n",
    "\n",
    "        x = self.conv2(x)\n",
    "        if hasattr(self, 'norm2'):\n",
    "            x = self.norm2(x)\n",
    "        x = F.relu(x)\n",
    "        x = self.pool2(x)\n",
    "\n",
    "        x = torch.flatten(x, 1)\n",
    "        x = self.fc1(x)\n",
    "        x = F.relu(x)\n",
    "        x = self.fc2(x)\n",
    "        return x"
   ]
  },
  {
   "cell_type": "code",
   "execution_count": 8,
   "metadata": {},
   "outputs": [],
   "source": [
    "# training function\n",
    "\n",
    "def train_model(model, criterion, optimizer, num_epochs):\n",
    "    model.train()\n",
    "    loss_history = []\n",
    "    for epoch in range(num_epochs):\n",
    "        epoch_loss = 0.0\n",
    "        for batch_idx, (images, labels) in enumerate(train_loader):\n",
    "            outputs = model(images)\n",
    "            loss = criterion(outputs, labels)\n",
    "            optimizer.zero_grad()\n",
    "            loss.backward()\n",
    "            optimizer.step()\n",
    "\n",
    "            epoch_loss += loss.item()\n",
    "\n",
    "            if (batch_idx+1)%10 == 0:\n",
    "                print(f'Trained batch {batch_idx+1}/{len(train_loader)}')\n",
    "\n",
    "        loss_history.append(epoch_loss)\n",
    "        print(f'Epoch [{epoch+1}/{num_epochs}]: loss = {epoch_loss}')\n",
    "\n",
    "    return loss_history \n",
    "\n",
    "# prediction function\n",
    "\n",
    "def get_prediction(model, train=True):\n",
    "    model.eval()\n",
    "    correct_predictions = 0\n",
    "    total_images = 0\n",
    "\n",
    "    if train:\n",
    "        with torch.no_grad():\n",
    "            for images, labels in train_loader:\n",
    "                outputs = model(images)\n",
    "                _, predicted = torch.max(outputs.data, 1)\n",
    "                total_images += labels.size(0)\n",
    "                correct_predictions += (predicted == labels).sum().item()\n",
    "    else:\n",
    "        with torch.no_grad():\n",
    "            for images, labels in test_loader:\n",
    "                outputs = model(images)\n",
    "                _, predicted = torch.max(outputs.data, 1)\n",
    "                total_images += labels.size(0)\n",
    "                correct_predictions += (predicted == labels).sum().item()\n",
    "\n",
    "    return (correct_predictions/total_images)*100\n",
    "\n",
    "\n",
    "# size for convolutional output\n",
    "\n",
    "def conv2d_output_size(input_size, kernel_size, stride=1, padding=0):\n",
    "    return (input_size - kernel_size + 2 * padding) // stride + 1\n",
    "\n",
    "def maxpool2d_output_size(input_size, kernel_size, stride=None, padding=0):\n",
    "    if stride is None:\n",
    "        stride = kernel_size\n",
    "    return (input_size - kernel_size + 2 * padding) // stride + 1\n",
    "\n",
    "def get_flatten_size(input_size, layers):\n",
    "    size = input_size\n",
    "    for layer in layers:\n",
    "        if isinstance(layer, nn.Conv2d):\n",
    "            size = conv2d_output_size(size, layer.kernel_size[0], stride=layer.stride[0], padding=layer.padding[0])\n",
    "        elif isinstance(layer, nn.MaxPool2d):\n",
    "            size = maxpool2d_output_size(size, layer.kernel_size, stride=layer.stride, padding=layer.padding)\n",
    "    return size\n",
    "\n",
    "\n",
    "# plotting function\n",
    "\n",
    "def plot_loss(loss_history):\n",
    "    plt.figure(figsize=(4,3))\n",
    "    plt.plot(range(1, len(loss_history)+1), loss_history)\n",
    "    plt.xlabel('Epochs')\n",
    "    plt.ylabel('Average Epoch Loss')\n",
    "    plt.show()\n"
   ]
  },
  {
   "cell_type": "markdown",
   "metadata": {},
   "source": [
    "## Model 1"
   ]
  },
  {
   "cell_type": "code",
   "execution_count": 9,
   "metadata": {},
   "outputs": [],
   "source": [
    "# no padding, no normalization, less filters\n",
    "\n",
    "class CNNModel1(BaseCNN):\n",
    "    def __init__(self):\n",
    "        super(CNNModel1, self).__init__()\n",
    "        self.conv1 = nn.Conv2d(3, 16, kernel_size=3, padding=0)\n",
    "        self.pool1 = nn.MaxPool2d(kernel_size=2, stride=2)\n",
    "        self.conv2 = nn.Conv2d(16, 32, kernel_size=3, padding=0)\n",
    "        self.pool2 = nn.MaxPool2d(kernel_size=2, stride=2)\n",
    "\n",
    "        flatten_size = get_flatten_size(image_size, [self.conv1, self.pool1, self.conv2, self.pool2])\n",
    "        self.fc1 = nn.Linear(32 * flatten_size**2, 128)\n",
    "        self.fc2 = nn.Linear(128, num_classes)"
   ]
  },
  {
   "cell_type": "code",
   "execution_count": 10,
   "metadata": {},
   "outputs": [],
   "source": [
    "# model parameters\n",
    "\n",
    "model_1_params = {\n",
    "        \"conv1\": {\"in_channels\": 3, \"out_channels\": 16, \"kernel_size\": 3, \"padding\": 0},\n",
    "        \"conv2\": {\"in_channels\": 16, \"out_channels\": 32, \"kernel_size\": 3, \"padding\": 0},\n",
    "        \"fc1\": {\"in_features\": 32 * ((image_size // 4) - 1)**2, \"out_features\": 128},\n",
    "        \"fc2\": {\"in_features\": 128, \"out_features\": num_classes},\n",
    "        \"normalize\": False,\n",
    "        \"learning_rate\": 0.001,\n",
    "        'epochs': 5\n",
    "    }"
   ]
  },
  {
   "cell_type": "code",
   "execution_count": 11,
   "metadata": {},
   "outputs": [
    {
     "name": "stdout",
     "output_type": "stream",
     "text": [
      "CNNModel1(\n",
      "  (conv1): Conv2d(3, 16, kernel_size=(3, 3), stride=(1, 1))\n",
      "  (pool1): MaxPool2d(kernel_size=2, stride=2, padding=0, dilation=1, ceil_mode=False)\n",
      "  (conv2): Conv2d(16, 32, kernel_size=(3, 3), stride=(1, 1))\n",
      "  (pool2): MaxPool2d(kernel_size=2, stride=2, padding=0, dilation=1, ceil_mode=False)\n",
      "  (fc1): Linear(in_features=93312, out_features=128, bias=True)\n",
      "  (fc2): Linear(in_features=128, out_features=5, bias=True)\n",
      ")\n"
     ]
    }
   ],
   "source": [
    "# model initialization\n",
    "\n",
    "model_1 = CNNModel1()\n",
    "optimizer = optim.Adam(model_1.parameters(), lr=model_1_params['learning_rate'])\n",
    "criterion = nn.CrossEntropyLoss()\n",
    "num_epochs = model_1_params['epochs']\n",
    "\n",
    "print(model_1)"
   ]
  },
  {
   "cell_type": "code",
   "execution_count": 12,
   "metadata": {},
   "outputs": [
    {
     "name": "stdout",
     "output_type": "stream",
     "text": [
      "Trained batch 10/63\n",
      "Trained batch 20/63\n",
      "Trained batch 30/63\n",
      "Trained batch 40/63\n",
      "Trained batch 50/63\n",
      "Trained batch 60/63\n",
      "Epoch [1/5]: loss = 120.49712228775024\n",
      "Trained batch 10/63\n",
      "Trained batch 20/63\n",
      "Trained batch 30/63\n",
      "Trained batch 40/63\n",
      "Trained batch 50/63\n",
      "Trained batch 60/63\n",
      "Epoch [2/5]: loss = 72.0312180519104\n",
      "Trained batch 10/63\n",
      "Trained batch 20/63\n",
      "Trained batch 30/63\n",
      "Trained batch 40/63\n",
      "Trained batch 50/63\n",
      "Trained batch 60/63\n",
      "Epoch [3/5]: loss = 51.93554371595383\n",
      "Trained batch 10/63\n",
      "Trained batch 20/63\n",
      "Trained batch 30/63\n",
      "Trained batch 40/63\n",
      "Trained batch 50/63\n",
      "Trained batch 60/63\n",
      "Epoch [4/5]: loss = 32.5741183757782\n",
      "Trained batch 10/63\n",
      "Trained batch 20/63\n",
      "Trained batch 30/63\n",
      "Trained batch 40/63\n",
      "Trained batch 50/63\n",
      "Trained batch 60/63\n",
      "Epoch [5/5]: loss = 19.252520605921745\n",
      "Training Accuracy: 96.65%\n",
      "Testing Accuracy: 69.4%\n"
     ]
    }
   ],
   "source": [
    "parent_id = ''\n",
    "\n",
    "with mlflow.start_run(run_name='Model Selection') as parent_run:\n",
    "    parent_id = parent_run.info.run_id\n",
    "    with mlflow.start_run(run_name='model 1', nested=True):\n",
    "\n",
    "        # logging the params\n",
    "        mlflow.log_params(params=model_1_params)\n",
    "\n",
    "        # model training\n",
    "        loss_history = train_model(model_1, criterion, optimizer, num_epochs)\n",
    "        train_accuracy = get_prediction(model_1)\n",
    "        test_accuracy = get_prediction(model_1, train=False)\n",
    "\n",
    "        # logging the test metrics\n",
    "        mlflow.log_metrics({\n",
    "            \"train_accuracy\": train_accuracy,\n",
    "            \"train_loss\": loss_history[-1],\n",
    "            \"test_accuracy\": test_accuracy,\n",
    "        })\n",
    "\n",
    "        print(f'Training Accuracy: {round(train_accuracy,2)}%')\n",
    "        print(f'Testing Accuracy: {round(test_accuracy,2)}%')\n",
    "\n",
    "        torch.save(model_1.state_dict(), 'artifacts/model_1.pth')"
   ]
  },
  {
   "cell_type": "code",
   "execution_count": 13,
   "metadata": {},
   "outputs": [
    {
     "data": {
      "image/png": "[encoded data removed]",
      "text/plain": [
       "<Figure size 400x300 with 1 Axes>"
      ]
     },
     "metadata": {},
     "output_type": "display_data"
    }
   ],
   "source": [
    "plot_loss(loss_history)"
   ]
  },
  {
   "cell_type": "markdown",
   "metadata": {},
   "source": [
    "## Model 2"
   ]
  },
  {
   "cell_type": "code",
   "execution_count": 14,
   "metadata": {},
   "outputs": [],
   "source": [
    "# model with higher number of filters, no normalization, with padding\n",
    "\n",
    "class CNNModel2(BaseCNN):\n",
    "    def __init__(self):\n",
    "        super(CNNModel2, self).__init__()\n",
    "        self.conv1 = nn.Conv2d(3, 32, kernel_size=3, padding=1)\n",
    "        self.pool1 = nn.MaxPool2d(kernel_size=2, stride=2)\n",
    "        self.conv2 = nn.Conv2d(32, 64, kernel_size=3, padding=1)\n",
    "        self.pool2 = nn.MaxPool2d(kernel_size=2, stride=2)\n",
    "\n",
    "        flatten_size = get_flatten_size(image_size, [self.conv1, self.pool1, self.conv2, self.pool2])\n",
    "        self.fc1 = nn.Linear(64 * flatten_size**2, 128)\n",
    "        self.fc2 = nn.Linear(128, num_classes)"
   ]
  },
  {
   "cell_type": "code",
   "execution_count": 15,
   "metadata": {},
   "outputs": [],
   "source": [
    "# model parameters\n",
    "\n",
    "model_2_params = {\n",
    "        \"conv1\": {\"in_channels\": 3, \"out_channels\": 32, \"kernel_size\": 3, \"padding\": 1},\n",
    "        \"conv2\": {\"in_channels\": 32, \"out_channels\": 64, \"kernel_size\": 3, \"padding\": 1},\n",
    "        \"fc1\": {\"in_features\": 64 * (image_size // 4)**2, \"out_features\": 128},\n",
    "        \"fc2\": {\"in_features\": 128, \"out_features\": num_classes},\n",
    "        \"normalize\": False,\n",
    "        \"learning_rate\": 0.001,\n",
    "        'epochs': 5\n",
    "}"
   ]
  },
  {
   "cell_type": "code",
   "execution_count": 16,
   "metadata": {},
   "outputs": [
    {
     "name": "stdout",
     "output_type": "stream",
     "text": [
      "CNNModel2(\n",
      "  (conv1): Conv2d(3, 32, kernel_size=(3, 3), stride=(1, 1), padding=(1, 1))\n",
      "  (pool1): MaxPool2d(kernel_size=2, stride=2, padding=0, dilation=1, ceil_mode=False)\n",
      "  (conv2): Conv2d(32, 64, kernel_size=(3, 3), stride=(1, 1), padding=(1, 1))\n",
      "  (pool2): MaxPool2d(kernel_size=2, stride=2, padding=0, dilation=1, ceil_mode=False)\n",
      "  (fc1): Linear(in_features=200704, out_features=128, bias=True)\n",
      "  (fc2): Linear(in_features=128, out_features=5, bias=True)\n",
      ")\n"
     ]
    }
   ],
   "source": [
    "# model initialization\n",
    "\n",
    "model_2 = CNNModel2()\n",
    "optimizer = optim.Adam(model_2.parameters(), lr=model_2_params['learning_rate'])\n",
    "criterion = nn.CrossEntropyLoss()\n",
    "num_epochs = model_2_params['epochs']\n",
    "\n",
    "print(model_2)"
   ]
  },
  {
   "cell_type": "code",
   "execution_count": 17,
   "metadata": {},
   "outputs": [
    {
     "name": "stdout",
     "output_type": "stream",
     "text": [
      "Trained batch 10/63\n",
      "Trained batch 20/63\n",
      "Trained batch 30/63\n",
      "Trained batch 40/63\n",
      "Trained batch 50/63\n",
      "Trained batch 60/63\n",
      "Epoch [1/5]: loss = 119.35483932495117\n",
      "Trained batch 10/63\n",
      "Trained batch 20/63\n",
      "Trained batch 30/63\n",
      "Trained batch 40/63\n",
      "Trained batch 50/63\n",
      "Trained batch 60/63\n",
      "Epoch [2/5]: loss = 101.39219760894775\n",
      "Trained batch 10/63\n",
      "Trained batch 20/63\n",
      "Trained batch 30/63\n",
      "Trained batch 40/63\n",
      "Trained batch 50/63\n",
      "Trained batch 60/63\n",
      "Epoch [3/5]: loss = 88.84731596708298\n",
      "Trained batch 10/63\n",
      "Trained batch 20/63\n",
      "Trained batch 30/63\n",
      "Trained batch 40/63\n",
      "Trained batch 50/63\n",
      "Trained batch 60/63\n",
      "Epoch [4/5]: loss = 75.26876360177994\n",
      "Trained batch 10/63\n",
      "Trained batch 20/63\n",
      "Trained batch 30/63\n",
      "Trained batch 40/63\n",
      "Trained batch 50/63\n",
      "Trained batch 60/63\n",
      "Epoch [5/5]: loss = 65.83380037546158\n",
      "Training Accuracy: 64.65%\n",
      "Testing Accuracy: 57.2%\n"
     ]
    }
   ],
   "source": [
    "mlflow.end_run()\n",
    "\n",
    "with mlflow.start_run(run_id=parent_id) as parent_run:\n",
    "    with mlflow.start_run(run_name='model 2', nested=True):\n",
    "\n",
    "        # logging the params\n",
    "        mlflow.log_params(params=model_2_params)\n",
    "\n",
    "        # model training\n",
    "        loss_history = train_model(model_2, criterion, optimizer, num_epochs)\n",
    "        train_accuracy = get_prediction(model_2)\n",
    "        test_accuracy = get_prediction(model_2, train=False)\n",
    "\n",
    "        # logging the test metrics\n",
    "        mlflow.log_metrics({\n",
    "            \"train_accuracy\": train_accuracy,\n",
    "            \"train_loss\": loss_history[-1],\n",
    "            \"test_accuracy\": test_accuracy,\n",
    "        })\n",
    "\n",
    "        print(f'Training Accuracy: {round(train_accuracy,2)}%')\n",
    "        print(f'Testing Accuracy: {round(test_accuracy,2)}%')\n",
    "\n",
    "        torch.save(model_2.state_dict(), 'artifacts/model_2.pth')"
   ]
  },
  {
   "cell_type": "code",
   "execution_count": 18,
   "metadata": {},
   "outputs": [
    {
     "data": {
      "image/png": "[encoded data removed]",
      "text/plain": [
       "<Figure size 400x300 with 1 Axes>"
      ]
     },
     "metadata": {},
     "output_type": "display_data"
    }
   ],
   "source": [
    "plot_loss(loss_history)"
   ]
  },
  {
   "cell_type": "markdown",
   "metadata": {},
   "source": [
    "## Model 3"
   ]
  },
  {
   "cell_type": "code",
   "execution_count": 19,
   "metadata": {},
   "outputs": [],
   "source": [
    "# larger filters, padding and with normalization\n",
    "\n",
    "class CNNModel3(BaseCNN):\n",
    "    def __init__(self):\n",
    "        super(CNNModel3, self).__init__()\n",
    "        self.conv1 = nn.Conv2d(3, 32, kernel_size=5, padding=2)\n",
    "        self.norm1 = nn.BatchNorm2d(32)\n",
    "        self.pool1 = nn.MaxPool2d(kernel_size=2, stride=2)\n",
    "        self.conv2 = nn.Conv2d(32, 64, kernel_size=5, padding=2)\n",
    "        self.norm2 = nn.BatchNorm2d(64)\n",
    "        self.pool2 = nn.MaxPool2d(kernel_size=2, stride=2)\n",
    "\n",
    "        flatten_size = get_flatten_size(image_size, [self.conv1, self.pool1, self.conv2, self.pool2])\n",
    "        self.fc1 = nn.Linear(64 * flatten_size**2, 128)\n",
    "        self.fc2 = nn.Linear(128, num_classes)"
   ]
  },
  {
   "cell_type": "code",
   "execution_count": 20,
   "metadata": {},
   "outputs": [],
   "source": [
    "# model parameters\n",
    "\n",
    "model_3_params = {\n",
    "        \"conv1\": {\"in_channels\": 3, \"out_channels\": 32, \"kernel_size\": 5, \"padding\": 2},\n",
    "        \"conv2\": {\"in_channels\": 32, \"out_channels\": 64, \"kernel_size\": 5, \"padding\": 2},\n",
    "        \"fc1\": {\"in_features\": 64 * (image_size // 4)**2, \"out_features\": 128},\n",
    "        \"fc2\": {\"in_features\": 128, \"out_features\": num_classes},\n",
    "        \"normalize\": True,\n",
    "        \"normalize\": False,\n",
    "        \"learning_rate\": 0.001,\n",
    "        'epochs': 5\n",
    "    }"
   ]
  },
  {
   "cell_type": "code",
   "execution_count": 21,
   "metadata": {},
   "outputs": [
    {
     "name": "stdout",
     "output_type": "stream",
     "text": [
      "CNNModel3(\n",
      "  (conv1): Conv2d(3, 32, kernel_size=(5, 5), stride=(1, 1), padding=(2, 2))\n",
      "  (norm1): BatchNorm2d(32, eps=1e-05, momentum=0.1, affine=True, track_running_stats=True)\n",
      "  (pool1): MaxPool2d(kernel_size=2, stride=2, padding=0, dilation=1, ceil_mode=False)\n",
      "  (conv2): Conv2d(32, 64, kernel_size=(5, 5), stride=(1, 1), padding=(2, 2))\n",
      "  (norm2): BatchNorm2d(64, eps=1e-05, momentum=0.1, affine=True, track_running_stats=True)\n",
      "  (pool2): MaxPool2d(kernel_size=2, stride=2, padding=0, dilation=1, ceil_mode=False)\n",
      "  (fc1): Linear(in_features=200704, out_features=128, bias=True)\n",
      "  (fc2): Linear(in_features=128, out_features=5, bias=True)\n",
      ")\n"
     ]
    }
   ],
   "source": [
    "# model initialization\n",
    "\n",
    "model_3 = CNNModel3()\n",
    "optimizer = optim.Adam(model_3.parameters(), lr=model_3_params['learning_rate'])\n",
    "criterion = nn.CrossEntropyLoss()\n",
    "num_epochs = model_3_params['epochs']\n",
    "\n",
    "print(model_3)"
   ]
  },
  {
   "cell_type": "code",
   "execution_count": 22,
   "metadata": {},
   "outputs": [
    {
     "name": "stdout",
     "output_type": "stream",
     "text": [
      "Trained batch 10/63\n",
      "Trained batch 20/63\n",
      "Trained batch 30/63\n",
      "Trained batch 40/63\n",
      "Trained batch 50/63\n",
      "Trained batch 60/63\n",
      "Epoch [1/5]: loss = 564.6628728508949\n",
      "Trained batch 10/63\n",
      "Trained batch 20/63\n",
      "Trained batch 30/63\n",
      "Trained batch 40/63\n",
      "Trained batch 50/63\n",
      "Trained batch 60/63\n",
      "Epoch [2/5]: loss = 111.67310613393784\n",
      "Trained batch 10/63\n",
      "Trained batch 20/63\n",
      "Trained batch 30/63\n",
      "Trained batch 40/63\n",
      "Trained batch 50/63\n",
      "Trained batch 60/63\n",
      "Epoch [3/5]: loss = 92.65309917926788\n",
      "Trained batch 10/63\n",
      "Trained batch 20/63\n",
      "Trained batch 30/63\n",
      "Trained batch 40/63\n",
      "Trained batch 50/63\n",
      "Trained batch 60/63\n",
      "Epoch [4/5]: loss = 47.39246082305908\n",
      "Trained batch 10/63\n",
      "Trained batch 20/63\n",
      "Trained batch 30/63\n",
      "Trained batch 40/63\n",
      "Trained batch 50/63\n",
      "Trained batch 60/63\n",
      "Epoch [5/5]: loss = 35.82050420343876\n",
      "Training Accuracy: 86.3%\n",
      "Testing Accuracy: 68.6%\n"
     ]
    }
   ],
   "source": [
    "mlflow.end_run()\n",
    "\n",
    "with mlflow.start_run(run_id=parent_id) as parent_run:\n",
    "    with mlflow.start_run(run_name='model 3', nested=True):\n",
    "\n",
    "        # logging the params\n",
    "        mlflow.log_params(params=model_3_params)\n",
    "\n",
    "        # model training\n",
    "        loss_history = train_model(model_3, criterion, optimizer, num_epochs)\n",
    "        train_accuracy = get_prediction(model_3)\n",
    "        test_accuracy = get_prediction(model_3, train=False)\n",
    "\n",
    "        # logging the test metrics\n",
    "        mlflow.log_metrics({\n",
    "            \"train_accuracy\": train_accuracy,\n",
    "            \"train_loss\": loss_history[-1],\n",
    "            \"test_accuracy\": test_accuracy,\n",
    "        })\n",
    "\n",
    "        print(f'Training Accuracy: {round(train_accuracy,2)}%')\n",
    "        print(f'Testing Accuracy: {round(test_accuracy,2)}%')\n",
    "\n",
    "        torch.save(model_3.state_dict(), 'artifacts/model_3.pth')"
   ]
  },
  {
   "cell_type": "code",
   "execution_count": 24,
   "metadata": {},
   "outputs": [
    {
     "data": {
      "image/png": "[encoded data removed]",
      "text/plain": [
       "<Figure size 400x300 with 1 Axes>"
      ]
     },
     "metadata": {},
     "output_type": "display_data"
    }
   ],
   "source": [
    "plot_loss(loss_history)"
   ]
  },
  {
   "cell_type": "markdown",
   "metadata": {},
   "source": [
    "## Model 4"
   ]
  },
  {
   "cell_type": "code",
   "execution_count": 25,
   "metadata": {},
   "outputs": [],
   "source": [
    "# model with smaller filter, no padding and with normalization\n",
    "\n",
    "class CNNModel4(BaseCNN):\n",
    "    def __init__(self):\n",
    "        super(CNNModel4, self).__init__()\n",
    "        self.conv1 = nn.Conv2d(3, 32, kernel_size=3, padding=0)\n",
    "        self.norm1 = nn.BatchNorm2d(32)\n",
    "        self.pool1 = nn.MaxPool2d(kernel_size=2, stride=2)\n",
    "        self.conv2 = nn.Conv2d(32, 64, kernel_size=3, padding=0)\n",
    "        self.norm2 = nn.BatchNorm2d(64)\n",
    "        self.pool2 = nn.MaxPool2d(kernel_size=2, stride=2)\n",
    "\n",
    "        flatten_size = get_flatten_size(image_size, [self.conv1, self.pool1, self.conv2, self.pool2])\n",
    "        self.fc1 = nn.Linear(64 * flatten_size**2, 128)\n",
    "        self.fc2 = nn.Linear(128, num_classes)"
   ]
  },
  {
   "cell_type": "code",
   "execution_count": 26,
   "metadata": {},
   "outputs": [],
   "source": [
    "# model parameters\n",
    "\n",
    "model_4_params = {\n",
    "        \"conv1\": {\"in_channels\": 3, \"out_channels\": 32, \"kernel_size\": 3, \"padding\": 0},\n",
    "        \"conv2\": {\"in_channels\": 32, \"out_channels\": 64, \"kernel_size\": 3, \"padding\": 0},\n",
    "        \"fc1\": {\"in_features\": 64 * ((image_size // 4) - 1)**2, \"out_features\": 128},\n",
    "        \"fc2\": {\"in_features\": 128, \"out_features\": num_classes},\n",
    "        \"normalize\": True,\n",
    "        \"learning_rate\": 0.01,\n",
    "        'epochs': 1\n",
    "    }"
   ]
  },
  {
   "cell_type": "code",
   "execution_count": 27,
   "metadata": {},
   "outputs": [
    {
     "name": "stdout",
     "output_type": "stream",
     "text": [
      "CNNModel4(\n",
      "  (conv1): Conv2d(3, 32, kernel_size=(3, 3), stride=(1, 1))\n",
      "  (norm1): BatchNorm2d(32, eps=1e-05, momentum=0.1, affine=True, track_running_stats=True)\n",
      "  (pool1): MaxPool2d(kernel_size=2, stride=2, padding=0, dilation=1, ceil_mode=False)\n",
      "  (conv2): Conv2d(32, 64, kernel_size=(3, 3), stride=(1, 1))\n",
      "  (norm2): BatchNorm2d(64, eps=1e-05, momentum=0.1, affine=True, track_running_stats=True)\n",
      "  (pool2): MaxPool2d(kernel_size=2, stride=2, padding=0, dilation=1, ceil_mode=False)\n",
      "  (fc1): Linear(in_features=186624, out_features=128, bias=True)\n",
      "  (fc2): Linear(in_features=128, out_features=5, bias=True)\n",
      ")\n"
     ]
    }
   ],
   "source": [
    "# model initialization\n",
    "\n",
    "model_4 = CNNModel4()\n",
    "optimizer = optim.Adam(model_4.parameters(), lr=model_4_params['learning_rate'])\n",
    "criterion = nn.CrossEntropyLoss()\n",
    "num_epochs = model_4_params['epochs']\n",
    "\n",
    "print(model_4)"
   ]
  },
  {
   "cell_type": "code",
   "execution_count": 28,
   "metadata": {},
   "outputs": [
    {
     "name": "stdout",
     "output_type": "stream",
     "text": [
      "Trained batch 10/63\n",
      "Trained batch 20/63\n",
      "Trained batch 30/63\n",
      "Trained batch 40/63\n",
      "Trained batch 50/63\n",
      "Trained batch 60/63\n",
      "Epoch [1/1]: loss = 2698.4847836494446\n",
      "Training Accuracy: 20.0%\n",
      "Testing Accuracy: 20.0%\n"
     ]
    }
   ],
   "source": [
    "mlflow.end_run()\n",
    "\n",
    "with mlflow.start_run(run_id=parent_id) as parent_run:\n",
    "    with mlflow.start_run(run_name='model 4', nested=True):\n",
    "\n",
    "        # logging the params\n",
    "        mlflow.log_params(params=model_4_params)\n",
    "\n",
    "        # model training\n",
    "        loss_history = train_model(model_4, criterion, optimizer, num_epochs)\n",
    "        train_accuracy = get_prediction(model_4)\n",
    "        test_accuracy = get_prediction(model_4, train=False)\n",
    "\n",
    "        # logging the test metrics\n",
    "        mlflow.log_metrics({\n",
    "            \"train_accuracy\": train_accuracy,\n",
    "            \"train_loss\": loss_history[-1],\n",
    "            \"test_accuracy\": test_accuracy,\n",
    "        })\n",
    "\n",
    "        print(f'Training Accuracy: {round(train_accuracy,2)}%')\n",
    "        print(f'Testing Accuracy: {round(test_accuracy,2)}%')\n",
    "\n",
    "        torch.save(model_4.state_dict(), 'artifacts/model_4.pth')"
   ]
  },
  {
   "cell_type": "code",
   "execution_count": 29,
   "metadata": {},
   "outputs": [
    {
     "data": {
      "image/png": "[encoded data removed]",
      "text/plain": [
       "<Figure size 400x300 with 1 Axes>"
      ]
     },
     "metadata": {},
     "output_type": "display_data"
    }
   ],
   "source": [
    "plot_loss(loss_history)"
   ]
  },
  {
   "cell_type": "markdown",
   "metadata": {},
   "source": [
    "## Model 5"
   ]
  },
  {
   "cell_type": "code",
   "execution_count": 30,
   "metadata": {},
   "outputs": [],
   "source": [
    "# model with no padding, no normalization, smaller filters and less filters\n",
    "\n",
    "class CNNModel5(BaseCNN):\n",
    "    def __init__(self):\n",
    "        super(CNNModel5, self).__init__()\n",
    "        self.conv1 = nn.Conv2d(3, 16, kernel_size=5, padding=0)\n",
    "        self.pool1 = nn.MaxPool2d(kernel_size=2, stride=2)\n",
    "        self.conv2 = nn.Conv2d(16, 32, kernel_size=5, padding=0)\n",
    "        self.pool2 = nn.MaxPool2d(kernel_size=2, stride=2)\n",
    "\n",
    "        flatten_size = get_flatten_size(image_size, [self.conv1, self.pool1, self.conv2, self.pool2])\n",
    "        self.fc1 = nn.Linear(32 * flatten_size**2, 128)\n",
    "        self.fc2 = nn.Linear(128, num_classes)"
   ]
  },
  {
   "cell_type": "code",
   "execution_count": 31,
   "metadata": {},
   "outputs": [],
   "source": [
    "# model parameters\n",
    "\n",
    "model_5_params = {\n",
    "        \"conv1\": {\"in_channels\": 3, \"out_channels\": 16, \"kernel_size\": 5, \"padding\": 0},\n",
    "        \"conv2\": {\"in_channels\": 16, \"out_channels\": 32, \"kernel_size\": 5, \"padding\": 0},\n",
    "        \"fc1\": {\"in_features\": 32 * image_size**2, \"out_features\": 128},\n",
    "        \"fc2\": {\"in_features\": 128, \"out_features\": num_classes},\n",
    "        \"normalize\": False,\n",
    "        \"learning_rate\": 0.1,\n",
    "        'epochs': 3\n",
    "    }"
   ]
  },
  {
   "cell_type": "code",
   "execution_count": 32,
   "metadata": {},
   "outputs": [
    {
     "name": "stdout",
     "output_type": "stream",
     "text": [
      "CNNModel5(\n",
      "  (conv1): Conv2d(3, 16, kernel_size=(5, 5), stride=(1, 1))\n",
      "  (pool1): MaxPool2d(kernel_size=2, stride=2, padding=0, dilation=1, ceil_mode=False)\n",
      "  (conv2): Conv2d(16, 32, kernel_size=(5, 5), stride=(1, 1))\n",
      "  (pool2): MaxPool2d(kernel_size=2, stride=2, padding=0, dilation=1, ceil_mode=False)\n",
      "  (fc1): Linear(in_features=89888, out_features=128, bias=True)\n",
      "  (fc2): Linear(in_features=128, out_features=5, bias=True)\n",
      ")\n"
     ]
    }
   ],
   "source": [
    "# model initialization\n",
    "\n",
    "model_5 = CNNModel5()\n",
    "optimizer = optim.Adam(model_5.parameters(), lr=model_5_params['learning_rate'])\n",
    "criterion = nn.CrossEntropyLoss()\n",
    "num_epochs = model_5_params['epochs']\n",
    "\n",
    "print(model_5)"
   ]
  },
  {
   "cell_type": "code",
   "execution_count": 33,
   "metadata": {},
   "outputs": [
    {
     "name": "stdout",
     "output_type": "stream",
     "text": [
      "Trained batch 10/63\n",
      "Trained batch 20/63\n",
      "Trained batch 30/63\n",
      "Trained batch 40/63\n",
      "Trained batch 50/63\n",
      "Trained batch 60/63\n",
      "Epoch [1/3]: loss = 129298.98551821709\n",
      "Trained batch 10/63\n",
      "Trained batch 20/63\n",
      "Trained batch 30/63\n",
      "Trained batch 40/63\n",
      "Trained batch 50/63\n",
      "Trained batch 60/63\n",
      "Epoch [2/3]: loss = 101.8001275062561\n",
      "Trained batch 10/63\n",
      "Trained batch 20/63\n",
      "Trained batch 30/63\n",
      "Trained batch 40/63\n",
      "Trained batch 50/63\n",
      "Trained batch 60/63\n",
      "Epoch [3/3]: loss = 101.82072305679321\n",
      "Training Accuracy: 20.0%\n",
      "Testing Accuracy: 20.0%\n"
     ]
    }
   ],
   "source": [
    "mlflow.end_run()\n",
    "\n",
    "with mlflow.start_run(run_id=parent_id) as parent_run:\n",
    "    with mlflow.start_run(run_name='model 5', nested=True):\n",
    "\n",
    "        # logging the params\n",
    "        mlflow.log_params(params=model_5_params)\n",
    "\n",
    "        # model training\n",
    "        loss_history = train_model(model_5, criterion, optimizer, num_epochs)\n",
    "        train_accuracy = get_prediction(model_5)\n",
    "        test_accuracy = get_prediction(model_5, train=False)\n",
    "\n",
    "        # logging the test metrics\n",
    "        mlflow.log_metrics({\n",
    "            \"train_accuracy\": train_accuracy,\n",
    "            \"train_loss\": loss_history[-1],\n",
    "            \"test_accuracy\": test_accuracy,\n",
    "        })\n",
    "\n",
    "        print(f'Training Accuracy: {round(train_accuracy,2)}%')\n",
    "        print(f'Testing Accuracy: {round(test_accuracy,2)}%')\n",
    "\n",
    "        torch.save(model_5.state_dict(), 'artifacts/model_5.pth')"
   ]
  },
  {
   "cell_type": "code",
   "execution_count": 35,
   "metadata": {},
   "outputs": [
    {
     "data": {
      "image/png": "[encoded data removed]",
      "text/plain": [
       "<Figure size 400x300 with 1 Axes>"
      ]
     },
     "metadata": {},
     "output_type": "display_data"
    }
   ],
   "source": [
    "plot_loss(loss_history)"
   ]
  },
  {
   "cell_type": "code",
   "execution_count": null,
   "metadata": {},
   "outputs": [],
   "source": []
  },
  {
   "cell_type": "code",
   "execution_count": null,
   "metadata": {},
   "outputs": [],
   "source": []
  },
  {
   "cell_type": "code",
   "execution_count": null,
   "metadata": {},
   "outputs": [],
   "source": []
  }
 ],
 "metadata": {
  "kernelspec": {
   "display_name": "project-venv",
   "language": "python",
   "name": "python3"
  },
  "language_info": {
   "codemirror_mode": {
    "name": "ipython",
    "version": 3
   },
   "file_extension": ".py",
   "mimetype": "text/x-python",
   "name": "python",
   "nbconvert_exporter": "python",
   "pygments_lexer": "ipython3",
   "version": "3.10.12"
  }
 },
 "nbformat": 4,
 "nbformat_minor": 2
}
